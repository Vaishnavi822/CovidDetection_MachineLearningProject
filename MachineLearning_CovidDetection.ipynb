{
  "cells": [
    {
      "cell_type": "markdown",
      "metadata": {
        "id": "view-in-github",
        "colab_type": "text"
      },
      "source": [
        "<a href=\"https://colab.research.google.com/github/Vaishnavi822/CovidDetection_MachineLearningProject/blob/main/MachineLearning_CovidDetection.ipynb\" target=\"_parent\"><img src=\"https://colab.research.google.com/assets/colab-badge.svg\" alt=\"Open In Colab\"/></a>"
      ]
    },
    {
      "cell_type": "markdown",
      "metadata": {
        "id": "Q2zniRus8UWG"
      },
      "source": [
        "# ML: **PROJECT**"
      ]
    },
    {
      "cell_type": "markdown",
      "metadata": {
        "id": "dd69MAUxrUrg"
      },
      "source": [
        "# **DATA COLLECTION**"
      ]
    },
    {
      "cell_type": "code",
      "source": [
        "from google.colab import drive\n",
        "drive.mount('/content/drive')"
      ],
      "metadata": {
        "colab": {
          "base_uri": "https://localhost:8080/"
        },
        "id": "XBXtUALzN_Ui",
        "outputId": "ff0eeecb-9490-42f5-8494-ef0455971a84"
      },
      "execution_count": 1,
      "outputs": [
        {
          "output_type": "stream",
          "name": "stdout",
          "text": [
            "Mounted at /content/drive\n"
          ]
        }
      ]
    },
    {
      "cell_type": "markdown",
      "metadata": {
        "id": "U7LiV3NjsCPu"
      },
      "source": [
        "IMPORTING LIBRARIES"
      ]
    },
    {
      "cell_type": "code",
      "execution_count": 2,
      "metadata": {
        "id": "O9pN5BW8pJ59"
      },
      "outputs": [],
      "source": [
        "#importing libraries\n",
        "import pandas as pd                 #used to analize data\n",
        "import numpy as np                  #used for working with arrays\n",
        "import matplotlib.pyplot as plt     #plot graphs\n",
        "import seaborn as sns               #used to visualize graph\n",
        "from sklearn.feature_selection import SelectKBest  #selecting feature\n",
        "from sklearn.feature_selection import chi2\n",
        "from sklearn import metrics,linear_model\n",
        "from sklearn.model_selection import train_test_split\n",
        "from sklearn.metrics import classification_report\n",
        "from sklearn.metrics import confusion_matrix"
      ]
    },
    {
      "cell_type": "markdown",
      "metadata": {
        "id": "ArfbxgWpsHv1"
      },
      "source": [
        "READING THE DATASET"
      ]
    },
    {
      "cell_type": "code",
      "execution_count": 3,
      "metadata": {
        "id": "fZoHsDwyBeyL",
        "colab": {
          "base_uri": "https://localhost:8080/"
        },
        "outputId": "f33c499c-79d8-4b39-db4e-10835aa69686"
      },
      "outputs": [
        {
          "output_type": "stream",
          "name": "stdout",
          "text": [
            "      gender  age_year  fever  cough  runny_nose  muscle_soreness  pneumonia  \\\n",
            "0       male        89      1      1           0                0          0   \n",
            "1       male        68      1      0           0                0          0   \n",
            "2       male        68      0      0           0                0          0   \n",
            "3       male        68      1      1           0                0          0   \n",
            "4       male        50      1      1           1                0          1   \n",
            "...      ...       ...    ...    ...         ...              ...        ...   \n",
            "6507  female        44      1      1           0                0          0   \n",
            "6508  female        44      1      1           0                0          0   \n",
            "6509  female        58      0      0           0                0          0   \n",
            "6510  female        58      1      1           0                0          0   \n",
            "6511    male        12      1      1           0                0          0   \n",
            "\n",
            "      diarrhea  lung_infection  travel_history  isolation_treatment  \\\n",
            "0            0               0               1                    0   \n",
            "1            0               0               0                    0   \n",
            "2            0               0               1                    0   \n",
            "3            0               0               1                    1   \n",
            "4            0               0               1                    0   \n",
            "...        ...             ...             ...                  ...   \n",
            "6507         0               0               1                    0   \n",
            "6508         0               0               0                    0   \n",
            "6509         0               0               0                    0   \n",
            "6510         0               0               0                    0   \n",
            "6511         0               0               0                    1   \n",
            "\n",
            "      SARS-CoV-2 Positive  \n",
            "0                       0  \n",
            "1                       0  \n",
            "2                       0  \n",
            "3                       1  \n",
            "4                       1  \n",
            "...                   ...  \n",
            "6507                    1  \n",
            "6508                    0  \n",
            "6509                    0  \n",
            "6510                    0  \n",
            "6511                    0  \n",
            "\n",
            "[6512 rows x 12 columns]\n"
          ]
        }
      ],
      "source": [
        "#reading dataset\n",
        "df = pd.read_csv(\"/content/drive/MyDrive/MLP_OEA/archive (1).zip\")\n",
        "print(df)\n",
        "\n"
      ]
    },
    {
      "cell_type": "code",
      "source": [
        "df.head() #printing 1st 5 attributes"
      ],
      "metadata": {
        "id": "01_vjifxX4Bk"
      },
      "execution_count": null,
      "outputs": []
    },
    {
      "cell_type": "code",
      "source": [
        "df= (df[0:50])\n",
        "print(df)"
      ],
      "metadata": {
        "id": "xmju2otNxTsE"
      },
      "execution_count": null,
      "outputs": []
    },
    {
      "cell_type": "markdown",
      "metadata": {
        "id": "JcH887INtxf6"
      },
      "source": [
        "# **DATA VISUALIZATION**"
      ]
    },
    {
      "cell_type": "code",
      "source": [
        "df.plot.line() #plotting line graph"
      ],
      "metadata": {
        "colab": {
          "base_uri": "https://localhost:8080/",
          "height": 391
        },
        "id": "nSJmKtsKxahe",
        "outputId": "5820a647-6571-4bb0-c623-13a29cdf3874"
      },
      "execution_count": null,
      "outputs": [
        {
          "output_type": "execute_result",
          "data": {
            "text/plain": [
              "<matplotlib.axes._subplots.AxesSubplot at 0x7f794a2e3810>"
            ]
          },
          "metadata": {},
          "execution_count": 981
        },
        {
          "output_type": "display_data",
          "data": {
            "text/plain": [
              "<Figure size 720x432 with 1 Axes>"
            ],
            "image/png": "[encoded data removed]"
          },
          "metadata": {
            "needs_background": "light"
          }
        }
      ]
    },
    {
      "cell_type": "markdown",
      "metadata": {
        "id": "F_PXoXhTtuUQ"
      },
      "source": [
        "# **DATA PROCESSING**"
      ]
    },
    {
      "cell_type": "code",
      "execution_count": null,
      "metadata": {
        "colab": {
          "base_uri": "https://localhost:8080/"
        },
        "id": "Y6ULjygy1_j0",
        "outputId": "6aa614cc-e846-4027-8601-02693adcf85b"
      },
      "outputs": [
        {
          "output_type": "stream",
          "name": "stdout",
          "text": [
            "    gender  age_year  fever  cough  runny_nose  muscle_soreness  pneumonia  \\\n",
            "0     male        89      1      1           0                0          0   \n",
            "1     male        68      1      0           0                0          0   \n",
            "2     male        68      0      0           0                0          0   \n",
            "3     male        68      1      1           0                0          0   \n",
            "4     male        50      1      1           1                0          1   \n",
            "5     male        50      1      1           0                0          0   \n",
            "6   female        55      1      1           0                0          0   \n",
            "7   female        55      0      0           0                0          0   \n",
            "8   female        55      1      1           0                0          0   \n",
            "9   female        48      1      1           0                0          0   \n",
            "10  female        48      0      0           0                0          0   \n",
            "11  female        48      1      1           0                0          0   \n",
            "12  female        49      1      1           0                0          0   \n",
            "13  female        49      1      1           0                0          0   \n",
            "14  female        49      0      0           0                0          0   \n",
            "15  female        49      1      1           0                0          0   \n",
            "16    male        44      0      0           0                0          0   \n",
            "17    male        44      1      1           0                0          0   \n",
            "18    male        44      1      1           0                0          0   \n",
            "19    male        44      0      0           0                0          0   \n",
            "20    male        44      1      1           0                0          0   \n",
            "21    male        48      1      0           0                0          0   \n",
            "22    male        48      0      0           0                0          0   \n",
            "23    male        48      1      1           0                0          0   \n",
            "24    male        39      0      0           0                0          0   \n",
            "25    male        39      1      0           0                0          0   \n",
            "26    male        39      1      1           0                0          0   \n",
            "27    male        39      0      0           0                0          0   \n",
            "28    male        39      1      1           0                0          0   \n",
            "29  female        47      1      1           0                0          0   \n",
            "30  female        47      1      1           0                0          0   \n",
            "31  female        50      0      0           0                0          0   \n",
            "32  female        50      1      1           0                0          0   \n",
            "33  female        50      0      0           0                0          0   \n",
            "34  female        50      1      1           0                0          0   \n",
            "35    male        45      1      1           0                0          0   \n",
            "36    male        45      0      0           0                0          0   \n",
            "37    male        45      1      1           0                0          0   \n",
            "38  female        68      1      1           0                0          0   \n",
            "39  female        68      1      1           0                0          0   \n",
            "40    male        59      0      0           0                0          0   \n",
            "41    male        59      1      1           0                0          0   \n",
            "42    male        59      0      0           0                0          0   \n",
            "43    male        59      1      1           0                0          0   \n",
            "44  female        73      0      0           0                0          0   \n",
            "45  female        73      1      1           0                0          0   \n",
            "46    male        63      1      1           0                0          0   \n",
            "47    male        63      1      1           0                0          0   \n",
            "48    male        63      1      1           0                0          0   \n",
            "49    male        81      1      1           0                0          0   \n",
            "\n",
            "    diarrhea  lung_infection  travel_history  isolation_treatment  RESULTS  \n",
            "0          0               0               1                    0        0  \n",
            "1          0               0               0                    0        0  \n",
            "2          0               0               1                    0        0  \n",
            "3          0               0               1                    1        1  \n",
            "4          0               0               1                    0        1  \n",
            "5          0               0               0                    0        1  \n",
            "6          0               0               0                    0        0  \n",
            "7          0               0               1                    0        0  \n",
            "8          0               0               0                    0        1  \n",
            "9          0               0               1                    0        0  \n",
            "10         0               0               1                    0        1  \n",
            "11         0               0               0                    0        1  \n",
            "12         0               0               1                    0        0  \n",
            "13         0               0               0                    0        0  \n",
            "14         0               0               1                    0        0  \n",
            "15         0               0               0                    0        1  \n",
            "16         0               0               1                    0        0  \n",
            "17         0               0               1                    0        0  \n",
            "18         0               0               0                    0        0  \n",
            "19         0               0               1                    0        0  \n",
            "20         0               0               0                    0        1  \n",
            "21         0               0               0                    0        0  \n",
            "22         0               0               1                    0        0  \n",
            "23         0               0               0                    0        1  \n",
            "24         0               0               1                    0        0  \n",
            "25         0               0               1                    0        0  \n",
            "26         0               0               1                    0        0  \n",
            "27         0               0               1                    0        0  \n",
            "28         0               0               0                    0        1  \n",
            "29         0               0               1                    0        0  \n",
            "30         0               0               0                    0        1  \n",
            "31         0               0               1                    0        0  \n",
            "32         0               0               1                    0        0  \n",
            "33         0               0               1                    0        1  \n",
            "34         0               0               0                    0        1  \n",
            "35         0               0               0                    0        0  \n",
            "36         0               0               1                    0        0  \n",
            "37         0               0               0                    0        1  \n",
            "38         0               0               1                    0        0  \n",
            "39         0               0               0                    0        1  \n",
            "40         0               0               0                    0        0  \n",
            "41         0               0               1                    0        0  \n",
            "42         0               0               1                    0        0  \n",
            "43         0               0               0                    0        1  \n",
            "44         0               1               1                    0        1  \n",
            "45         0               0               0                    0        1  \n",
            "46         0               0               0                    0        0  \n",
            "47         0               0               1                    0        0  \n",
            "48         0               0               0                    0        1  \n",
            "49         0               0               0                    0        0  \n"
          ]
        }
      ],
      "source": [
        "#renaming target column\n",
        "df=(df.rename(columns={'SARS-CoV-2 Positive' : 'RESULTS'}))\n",
        "print(df)"
      ]
    },
    {
      "cell_type": "code",
      "execution_count": null,
      "metadata": {
        "id": "Dxu-PTl242xV",
        "colab": {
          "base_uri": "https://localhost:8080/"
        },
        "outputId": "fb445658-a802-4d9b-b7a0-130e3f4b4ded"
      },
      "outputs": [
        {
          "output_type": "execute_result",
          "data": {
            "text/plain": [
              "Index(['gender', 'age_year', 'fever', 'cough', 'runny_nose', 'muscle_soreness',\n",
              "       'pneumonia', 'diarrhea', 'lung_infection', 'travel_history',\n",
              "       'isolation_treatment', 'RESULTS'],\n",
              "      dtype='object')"
            ]
          },
          "metadata": {},
          "execution_count": 983
        }
      ],
      "source": [
        "df.columns\n"
      ]
    },
    {
      "cell_type": "code",
      "execution_count": null,
      "metadata": {
        "id": "g6Oq-WKA9YCT"
      },
      "outputs": [],
      "source": [
        "df=(df.drop(['gender','travel_history','isolation_treatment'],axis=1))\n",
        "print(df)"
      ]
    },
    {
      "cell_type": "code",
      "execution_count": null,
      "metadata": {
        "id": "UV-0Nj0aFpR_"
      },
      "outputs": [],
      "source": [
        "#finding  null value if any\n",
        "df.isnull()"
      ]
    },
    {
      "cell_type": "code",
      "execution_count": null,
      "metadata": {
        "id": "I14THHx7G0KZ",
        "colab": {
          "base_uri": "https://localhost:8080/"
        },
        "outputId": "e9c51a41-4715-4cdc-e576-cfd44c5426eb"
      },
      "outputs": [
        {
          "output_type": "execute_result",
          "data": {
            "text/plain": [
              "age_year           0\n",
              "fever              0\n",
              "cough              0\n",
              "runny_nose         0\n",
              "muscle_soreness    0\n",
              "pneumonia          0\n",
              "diarrhea           0\n",
              "lung_infection     0\n",
              "RESULTS            0\n",
              "dtype: int64"
            ]
          },
          "metadata": {},
          "execution_count": 986
        }
      ],
      "source": [
        "df.isnull().sum()"
      ]
    },
    {
      "cell_type": "markdown",
      "metadata": {
        "id": "7VmiO1ddIX2c"
      },
      "source": [
        "# **FEATURE SELECTION(univariate selection)**"
      ]
    },
    {
      "cell_type": "code",
      "execution_count": null,
      "metadata": {
        "id": "CUAM_rikFWgn",
        "colab": {
          "base_uri": "https://localhost:8080/"
        },
        "outputId": "36d43b0c-b273-45ff-b0ff-f3af62c6a9bc"
      },
      "outputs": [
        {
          "output_type": "execute_result",
          "data": {
            "text/plain": [
              "(50, 9)"
            ]
          },
          "metadata": {},
          "execution_count": 987
        }
      ],
      "source": [
        "x = df.iloc[:,0:50]\n",
        "y = df.iloc[:,-1]\n",
        "x.shape"
      ]
    },
    {
      "cell_type": "code",
      "source": [
        "y.shape"
      ],
      "metadata": {
        "id": "heMVZd-Lnnyz",
        "colab": {
          "base_uri": "https://localhost:8080/"
        },
        "outputId": "9845b41b-d464-4b9f-e08a-9e3139dcc0a0"
      },
      "execution_count": null,
      "outputs": [
        {
          "output_type": "execute_result",
          "data": {
            "text/plain": [
              "(50,)"
            ]
          },
          "metadata": {},
          "execution_count": 988
        }
      ]
    },
    {
      "cell_type": "code",
      "execution_count": null,
      "metadata": {
        "id": "R9H08ocnFiNy"
      },
      "outputs": [],
      "source": [
        "bestfeatures = SelectKBest(score_func=chi2, k='all')\n",
        "bestfit=bestfeatures.fit(x,y)\n"
      ]
    },
    {
      "cell_type": "code",
      "execution_count": null,
      "metadata": {
        "id": "rT77jPWCGmwa",
        "colab": {
          "base_uri": "https://localhost:8080/"
        },
        "outputId": "00f49a11-bf9b-45d1-b002-65afbf45707f"
      },
      "outputs": [
        {
          "output_type": "stream",
          "name": "stdout",
          "text": [
            "                  scores  P_values\n",
            "age_year        0.187898  0.664672\n",
            "fever           0.884065  0.347091\n",
            "runny_nose      1.631579  0.201485\n",
            "pneumonia       1.631579  0.201485\n",
            "lung_infection  1.631579  0.201485\n"
          ]
        }
      ],
      "source": [
        "dfscores = pd.DataFrame({\"scores\":bestfit.scores_,\"P_values\":bestfit.pvalues_},index=x.columns)\n",
        "\n",
        "print(dfscores.nlargest(5,'P_values'))"
      ]
    },
    {
      "cell_type": "code",
      "execution_count": null,
      "metadata": {
        "id": "bULJWGbfK-C2",
        "colab": {
          "base_uri": "https://localhost:8080/"
        },
        "outputId": "07f22bd4-81a0-4e61-f8bb-fd8cbcee01da"
      },
      "outputs": [
        {
          "output_type": "stream",
          "name": "stdout",
          "text": [
            "    fever  cough  runny_nose  pneumonia  lung_infection  RESULTS\n",
            "0       1      1           0          0               0        0\n",
            "1       1      0           0          0               0        0\n",
            "2       0      0           0          0               0        0\n",
            "3       1      1           0          0               0        1\n",
            "4       1      1           1          1               0        1\n",
            "5       1      1           0          0               0        1\n",
            "6       1      1           0          0               0        0\n",
            "7       0      0           0          0               0        0\n",
            "8       1      1           0          0               0        1\n",
            "9       1      1           0          0               0        0\n",
            "10      0      0           0          0               0        1\n",
            "11      1      1           0          0               0        1\n",
            "12      1      1           0          0               0        0\n",
            "13      1      1           0          0               0        0\n",
            "14      0      0           0          0               0        0\n",
            "15      1      1           0          0               0        1\n",
            "16      0      0           0          0               0        0\n",
            "17      1      1           0          0               0        0\n",
            "18      1      1           0          0               0        0\n",
            "19      0      0           0          0               0        0\n",
            "20      1      1           0          0               0        1\n",
            "21      1      0           0          0               0        0\n",
            "22      0      0           0          0               0        0\n",
            "23      1      1           0          0               0        1\n",
            "24      0      0           0          0               0        0\n",
            "25      1      0           0          0               0        0\n",
            "26      1      1           0          0               0        0\n",
            "27      0      0           0          0               0        0\n",
            "28      1      1           0          0               0        1\n",
            "29      1      1           0          0               0        0\n",
            "30      1      1           0          0               0        1\n",
            "31      0      0           0          0               0        0\n",
            "32      1      1           0          0               0        0\n",
            "33      0      0           0          0               0        1\n",
            "34      1      1           0          0               0        1\n",
            "35      1      1           0          0               0        0\n",
            "36      0      0           0          0               0        0\n",
            "37      1      1           0          0               0        1\n",
            "38      1      1           0          0               0        0\n",
            "39      1      1           0          0               0        1\n",
            "40      0      0           0          0               0        0\n",
            "41      1      1           0          0               0        0\n",
            "42      0      0           0          0               0        0\n",
            "43      1      1           0          0               0        1\n",
            "44      0      0           0          0               1        1\n",
            "45      1      1           0          0               0        1\n",
            "46      1      1           0          0               0        0\n",
            "47      1      1           0          0               0        0\n",
            "48      1      1           0          0               0        1\n",
            "49      1      1           0          0               0        0\n"
          ]
        }
      ],
      "source": [
        "df=(df.drop(['diarrhea','muscle_soreness','age_year'],axis=1))\n",
        "print(df)"
      ]
    },
    {
      "cell_type": "markdown",
      "metadata": {
        "id": "ykw5WgD-2nfu"
      },
      "source": [
        "# **MODEL SELECTION**"
      ]
    },
    {
      "cell_type": "code",
      "execution_count": null,
      "metadata": {
        "id": "AeIdvDB3ehTM"
      },
      "outputs": [],
      "source": [
        "\n",
        "xtrain,xtest,ytrain,ytest=train_test_split(df[['fever']],df.RESULTS,test_size=0.3,random_state=32)\n"
      ]
    },
    {
      "cell_type": "code",
      "execution_count": null,
      "metadata": {
        "id": "qds1qeyQgngq"
      },
      "outputs": [],
      "source": [
        "regModel =linear_model.LogisticRegression()\n",
        "regModel.fit(xtrain,ytrain)\n",
        "regModel_pred=regModel.predict(xtest)"
      ]
    },
    {
      "cell_type": "code",
      "execution_count": null,
      "metadata": {
        "colab": {
          "base_uri": "https://localhost:8080/"
        },
        "id": "ftwKqGWwhOBm",
        "outputId": "15cfebb5-c7cb-4490-888f-72e9b8c296d3"
      },
      "outputs": [
        {
          "output_type": "stream",
          "name": "stdout",
          "text": [
            "accuracy of logistic regression is : 80.0\n"
          ]
        }
      ],
      "source": [
        "\n",
        "print(\"accuracy of logistic regression is :\",metrics.accuracy_score(ytest,regModel_pred)*100)"
      ]
    },
    {
      "cell_type": "markdown",
      "metadata": {
        "id": "AmwrjA3mldut"
      },
      "source": [
        "**SELECTED MODEL : K logistic regression**"
      ]
    },
    {
      "cell_type": "code",
      "source": [
        "confmat = confusion_matrix(ytest,regModel_pred)\n",
        "confmat"
      ],
      "metadata": {
        "colab": {
          "base_uri": "https://localhost:8080/"
        },
        "id": "RrLLtWbHxuGU",
        "outputId": "5f8789c4-814b-43bb-c0f9-287d6508b1d7"
      },
      "execution_count": null,
      "outputs": [
        {
          "output_type": "execute_result",
          "data": {
            "text/plain": [
              "array([[12,  0],\n",
              "       [ 3,  0]])"
            ]
          },
          "metadata": {},
          "execution_count": 995
        }
      ]
    },
    {
      "cell_type": "code",
      "source": [
        "regModel= linear_model.LogisticRegression()\n",
        "regModel.fit(xtrain,ytrain)\n",
        "regModel_pred=regModel.predict(xtest)\n",
        "regModel_pred\n"
      ],
      "metadata": {
        "colab": {
          "base_uri": "https://localhost:8080/"
        },
        "id": "MtF3Jv1TNPo1",
        "outputId": "1b685224-b0c1-4232-9a1e-5ef87238b005"
      },
      "execution_count": null,
      "outputs": [
        {
          "output_type": "execute_result",
          "data": {
            "text/plain": [
              "array([0, 0, 0, 0, 0, 0, 0, 0, 0, 0, 0, 0, 0, 0, 0])"
            ]
          },
          "metadata": {},
          "execution_count": 996
        }
      ]
    },
    {
      "cell_type": "code",
      "source": [
        "ytest"
      ],
      "metadata": {
        "colab": {
          "base_uri": "https://localhost:8080/"
        },
        "id": "fXGiCjjb1wfD",
        "outputId": "813e9dff-fd5b-4bf7-9b65-0bccafdad09a"
      },
      "execution_count": null,
      "outputs": [
        {
          "output_type": "execute_result",
          "data": {
            "text/plain": [
              "49    0\n",
              "16    0\n",
              "41    0\n",
              "35    0\n",
              "44    1\n",
              "8     1\n",
              "31    0\n",
              "12    0\n",
              "26    0\n",
              "2     0\n",
              "36    0\n",
              "29    0\n",
              "40    0\n",
              "27    0\n",
              "45    1\n",
              "Name: RESULTS, dtype: int64"
            ]
          },
          "metadata": {},
          "execution_count": 997
        }
      ]
    },
    {
      "cell_type": "code",
      "execution_count": null,
      "metadata": {
        "colab": {
          "base_uri": "https://localhost:8080/"
        },
        "id": "JyhtxNt2nCt-",
        "outputId": "76b5d857-345d-4226-bc5b-fbcb211b9eba"
      },
      "outputs": [
        {
          "output_type": "stream",
          "name": "stdout",
          "text": [
            "              precision    recall  f1-score   support\n",
            "\n",
            "           0       0.80      1.00      0.89        12\n",
            "           1       0.00      0.00      0.00         3\n",
            "\n",
            "    accuracy                           0.80        15\n",
            "   macro avg       0.40      0.50      0.44        15\n",
            "weighted avg       0.64      0.80      0.71        15\n",
            "\n"
          ]
        },
        {
          "output_type": "stream",
          "name": "stderr",
          "text": [
            "/usr/local/lib/python3.7/dist-packages/sklearn/metrics/_classification.py:1318: UndefinedMetricWarning: Precision and F-score are ill-defined and being set to 0.0 in labels with no predicted samples. Use `zero_division` parameter to control this behavior.\n",
            "  _warn_prf(average, modifier, msg_start, len(result))\n",
            "/usr/local/lib/python3.7/dist-packages/sklearn/metrics/_classification.py:1318: UndefinedMetricWarning: Precision and F-score are ill-defined and being set to 0.0 in labels with no predicted samples. Use `zero_division` parameter to control this behavior.\n",
            "  _warn_prf(average, modifier, msg_start, len(result))\n",
            "/usr/local/lib/python3.7/dist-packages/sklearn/metrics/_classification.py:1318: UndefinedMetricWarning: Precision and F-score are ill-defined and being set to 0.0 in labels with no predicted samples. Use `zero_division` parameter to control this behavior.\n",
            "  _warn_prf(average, modifier, msg_start, len(result))\n"
          ]
        }
      ],
      "source": [
        "print( classification_report(ytest,regModel_pred))"
      ]
    }
  ],
  "metadata": {
    "colab": {
      "provenance": [],
      "toc_visible": true,
      "include_colab_link": true
    },
    "kernelspec": {
      "display_name": "Python 3",
      "name": "python3"
    },
    "language_info": {
      "name": "python"
    }
  },
  "nbformat": 4,
  "nbformat_minor": 0
}